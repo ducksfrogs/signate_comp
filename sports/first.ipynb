{
 "cells": [
  {
   "cell_type": "code",
   "execution_count": 1,
   "metadata": {},
   "outputs": [],
   "source": [
    "import numpy as np\n",
    "import pandas as pd\n",
    "import matplotlib.pyplot as plt\n",
    "\n",
    "import seaborn as sns\n",
    "\n"
   ]
  },
  {
   "cell_type": "code",
   "execution_count": 2,
   "metadata": {},
   "outputs": [],
   "source": [
    "train = pd.read_csv('../input/train.csv')\n",
    "train_add = pd.read_csv('../input/train_add.csv')\n",
    "stadium = pd.read_csv('../input/stadium.csv')\n",
    "add_2014 = pd.read_csv('../input/2014_add.csv')\n",
    "test = pd.read_csv('../input/test.csv')\n",
    "condition = pd.read_csv('../input/condition.csv')\n",
    "condition_add = pd.read_csv('../input/condition_add.csv')\n"
   ]
  },
  {
   "cell_type": "code",
   "execution_count": 3,
   "metadata": {},
   "outputs": [
    {
     "data": {
      "text/plain": [
       "(1721, 11)"
      ]
     },
     "execution_count": 3,
     "metadata": {},
     "output_type": "execute_result"
    }
   ],
   "source": [
    "train.shape"
   ]
  },
  {
   "cell_type": "code",
   "execution_count": 4,
   "metadata": {},
   "outputs": [
    {
     "data": {
      "text/html": [
       "<div>\n",
       "<style scoped>\n",
       "    .dataframe tbody tr th:only-of-type {\n",
       "        vertical-align: middle;\n",
       "    }\n",
       "\n",
       "    .dataframe tbody tr th {\n",
       "        vertical-align: top;\n",
       "    }\n",
       "\n",
       "    .dataframe thead th {\n",
       "        text-align: right;\n",
       "    }\n",
       "</style>\n",
       "<table border=\"1\" class=\"dataframe\">\n",
       "  <thead>\n",
       "    <tr style=\"text-align: right;\">\n",
       "      <th></th>\n",
       "      <th>id</th>\n",
       "      <th>y</th>\n",
       "      <th>year</th>\n",
       "      <th>stage</th>\n",
       "      <th>match</th>\n",
       "      <th>gameday</th>\n",
       "      <th>time</th>\n",
       "      <th>home</th>\n",
       "      <th>away</th>\n",
       "      <th>stadium</th>\n",
       "      <th>tv</th>\n",
       "    </tr>\n",
       "  </thead>\n",
       "  <tbody>\n",
       "    <tr>\n",
       "      <th>0</th>\n",
       "      <td>13994</td>\n",
       "      <td>18250</td>\n",
       "      <td>2012</td>\n",
       "      <td>Ｊ１</td>\n",
       "      <td>第１節第１日</td>\n",
       "      <td>03/10(土)</td>\n",
       "      <td>14:04</td>\n",
       "      <td>ベガルタ仙台</td>\n",
       "      <td>鹿島アントラーズ</td>\n",
       "      <td>ユアテックスタジアム仙台</td>\n",
       "      <td>スカパー／ｅ２／スカパー光／ＮＨＫ総合</td>\n",
       "    </tr>\n",
       "    <tr>\n",
       "      <th>1</th>\n",
       "      <td>13995</td>\n",
       "      <td>24316</td>\n",
       "      <td>2012</td>\n",
       "      <td>Ｊ１</td>\n",
       "      <td>第１節第１日</td>\n",
       "      <td>03/10(土)</td>\n",
       "      <td>14:04</td>\n",
       "      <td>名古屋グランパス</td>\n",
       "      <td>清水エスパルス</td>\n",
       "      <td>豊田スタジアム</td>\n",
       "      <td>スカパー／ｅ２／スカパー光（Ｊ　ＳＰＯＲＴＳ　４）／ＮＨＫ名古屋</td>\n",
       "    </tr>\n",
       "    <tr>\n",
       "      <th>2</th>\n",
       "      <td>13996</td>\n",
       "      <td>17066</td>\n",
       "      <td>2012</td>\n",
       "      <td>Ｊ１</td>\n",
       "      <td>第１節第１日</td>\n",
       "      <td>03/10(土)</td>\n",
       "      <td>14:04</td>\n",
       "      <td>ガンバ大阪</td>\n",
       "      <td>ヴィッセル神戸</td>\n",
       "      <td>万博記念競技場</td>\n",
       "      <td>スカパー／ｅ２／スカパー光（Ｊ　ＳＰＯＲＴＳ　１）／ＮＨＫ大阪</td>\n",
       "    </tr>\n",
       "    <tr>\n",
       "      <th>3</th>\n",
       "      <td>13997</td>\n",
       "      <td>29603</td>\n",
       "      <td>2012</td>\n",
       "      <td>Ｊ１</td>\n",
       "      <td>第１節第１日</td>\n",
       "      <td>03/10(土)</td>\n",
       "      <td>14:06</td>\n",
       "      <td>サンフレッチェ広島</td>\n",
       "      <td>浦和レッズ</td>\n",
       "      <td>エディオンスタジアム広島</td>\n",
       "      <td>スカパー／ｅ２／スカパー光／ＮＨＫ広島</td>\n",
       "    </tr>\n",
       "    <tr>\n",
       "      <th>4</th>\n",
       "      <td>13998</td>\n",
       "      <td>25353</td>\n",
       "      <td>2012</td>\n",
       "      <td>Ｊ１</td>\n",
       "      <td>第１節第１日</td>\n",
       "      <td>03/10(土)</td>\n",
       "      <td>14:04</td>\n",
       "      <td>コンサドーレ札幌</td>\n",
       "      <td>ジュビロ磐田</td>\n",
       "      <td>札幌ドーム</td>\n",
       "      <td>スカパー／ｅ２／スカパー光（スカイ・Ａ　ｓｐｏｒｔｓ＋）／ＮＨＫ札幌</td>\n",
       "    </tr>\n",
       "  </tbody>\n",
       "</table>\n",
       "</div>"
      ],
      "text/plain": [
       "      id      y  year stage   match   gameday   time       home      away  \\\n",
       "0  13994  18250  2012    Ｊ１  第１節第１日  03/10(土)  14:04     ベガルタ仙台  鹿島アントラーズ   \n",
       "1  13995  24316  2012    Ｊ１  第１節第１日  03/10(土)  14:04   名古屋グランパス   清水エスパルス   \n",
       "2  13996  17066  2012    Ｊ１  第１節第１日  03/10(土)  14:04      ガンバ大阪   ヴィッセル神戸   \n",
       "3  13997  29603  2012    Ｊ１  第１節第１日  03/10(土)  14:06  サンフレッチェ広島     浦和レッズ   \n",
       "4  13998  25353  2012    Ｊ１  第１節第１日  03/10(土)  14:04   コンサドーレ札幌    ジュビロ磐田   \n",
       "\n",
       "        stadium                                  tv  \n",
       "0  ユアテックスタジアム仙台                 スカパー／ｅ２／スカパー光／ＮＨＫ総合  \n",
       "1       豊田スタジアム    スカパー／ｅ２／スカパー光（Ｊ　ＳＰＯＲＴＳ　４）／ＮＨＫ名古屋  \n",
       "2       万博記念競技場     スカパー／ｅ２／スカパー光（Ｊ　ＳＰＯＲＴＳ　１）／ＮＨＫ大阪  \n",
       "3  エディオンスタジアム広島                 スカパー／ｅ２／スカパー光／ＮＨＫ広島  \n",
       "4         札幌ドーム  スカパー／ｅ２／スカパー光（スカイ・Ａ　ｓｐｏｒｔｓ＋）／ＮＨＫ札幌  "
      ]
     },
     "execution_count": 4,
     "metadata": {},
     "output_type": "execute_result"
    }
   ],
   "source": [
    "train.head()"
   ]
  },
  {
   "cell_type": "code",
   "execution_count": 5,
   "metadata": {},
   "outputs": [
    {
     "data": {
      "text/plain": [
       "(232, 11)"
      ]
     },
     "execution_count": 5,
     "metadata": {},
     "output_type": "execute_result"
    }
   ],
   "source": [
    "train_add.shape"
   ]
  },
  {
   "cell_type": "code",
   "execution_count": 6,
   "metadata": {},
   "outputs": [],
   "source": [
    "data = pd.concat([train, train_add], axis=0)\n",
    "\n",
    "condition_new = pd.concat([condition, condition_add], axis=0)\n"
   ]
  },
  {
   "cell_type": "code",
   "execution_count": 7,
   "metadata": {},
   "outputs": [
    {
     "data": {
      "text/plain": [
       "(2304, 31)"
      ]
     },
     "execution_count": 7,
     "metadata": {},
     "output_type": "execute_result"
    }
   ],
   "source": [
    "condition_new.shape"
   ]
  },
  {
   "cell_type": "code",
   "execution_count": 8,
   "metadata": {},
   "outputs": [
    {
     "data": {
      "text/plain": [
       "(1953, 11)"
      ]
     },
     "execution_count": 8,
     "metadata": {},
     "output_type": "execute_result"
    }
   ],
   "source": [
    "data.shape"
   ]
  },
  {
   "cell_type": "code",
   "execution_count": 9,
   "metadata": {},
   "outputs": [],
   "source": [
    "tmp = pd.merge(data, condition_new,on='id',how='left')\n"
   ]
  },
  {
   "cell_type": "code",
   "execution_count": 10,
   "metadata": {},
   "outputs": [
    {
     "data": {
      "text/plain": [
       "(1953, 41)"
      ]
     },
     "execution_count": 10,
     "metadata": {},
     "output_type": "execute_result"
    }
   ],
   "source": [
    "tmp.shape"
   ]
  },
  {
   "cell_type": "code",
   "execution_count": 11,
   "metadata": {},
   "outputs": [
    {
     "data": {
      "text/plain": [
       "Index(['id', 'y', 'year', 'stage', 'match', 'gameday', 'time', 'home', 'away',\n",
       "       'stadium', 'tv', 'home_score', 'away_score', 'weather', 'temperature',\n",
       "       'humidity', 'referee', 'home_team', 'home_01', 'home_02', 'home_03',\n",
       "       'home_04', 'home_05', 'home_06', 'home_07', 'home_08', 'home_09',\n",
       "       'home_10', 'home_11', 'away_team', 'away_01', 'away_02', 'away_03',\n",
       "       'away_04', 'away_05', 'away_06', 'away_07', 'away_08', 'away_09',\n",
       "       'away_10', 'away_11'],\n",
       "      dtype='object')"
      ]
     },
     "execution_count": 11,
     "metadata": {},
     "output_type": "execute_result"
    }
   ],
   "source": [
    "tmp.columns"
   ]
  },
  {
   "cell_type": "code",
   "execution_count": 12,
   "metadata": {},
   "outputs": [
    {
     "data": {
      "text/plain": [
       "Index(['id', 'home_score', 'away_score', 'weather', 'temperature', 'humidity',\n",
       "       'referee', 'home_team', 'home_01', 'home_02', 'home_03', 'home_04',\n",
       "       'home_05', 'home_06', 'home_07', 'home_08', 'home_09', 'home_10',\n",
       "       'home_11', 'away_team', 'away_01', 'away_02', 'away_03', 'away_04',\n",
       "       'away_05', 'away_06', 'away_07', 'away_08', 'away_09', 'away_10',\n",
       "       'away_11'],\n",
       "      dtype='object')"
      ]
     },
     "execution_count": 12,
     "metadata": {},
     "output_type": "execute_result"
    }
   ],
   "source": [
    "condition_new.columns"
   ]
  },
  {
   "cell_type": "code",
   "execution_count": 13,
   "metadata": {},
   "outputs": [
    {
     "data": {
      "text/html": [
       "<div>\n",
       "<style scoped>\n",
       "    .dataframe tbody tr th:only-of-type {\n",
       "        vertical-align: middle;\n",
       "    }\n",
       "\n",
       "    .dataframe tbody tr th {\n",
       "        vertical-align: top;\n",
       "    }\n",
       "\n",
       "    .dataframe thead th {\n",
       "        text-align: right;\n",
       "    }\n",
       "</style>\n",
       "<table border=\"1\" class=\"dataframe\">\n",
       "  <thead>\n",
       "    <tr style=\"text-align: right;\">\n",
       "      <th></th>\n",
       "      <th>name</th>\n",
       "      <th>address</th>\n",
       "      <th>capa</th>\n",
       "    </tr>\n",
       "  </thead>\n",
       "  <tbody>\n",
       "    <tr>\n",
       "      <th>0</th>\n",
       "      <td>名古屋市瑞穂陸上競技場</td>\n",
       "      <td>愛知県名古屋市瑞穂区山下通5-1</td>\n",
       "      <td>20000</td>\n",
       "    </tr>\n",
       "    <tr>\n",
       "      <th>1</th>\n",
       "      <td>豊田スタジアム</td>\n",
       "      <td>愛知県豊田市千石町7-2</td>\n",
       "      <td>40000</td>\n",
       "    </tr>\n",
       "    <tr>\n",
       "      <th>2</th>\n",
       "      <td>フクダ電子アリーナ</td>\n",
       "      <td>千葉県千葉市中央区川崎町1-20</td>\n",
       "      <td>18500</td>\n",
       "    </tr>\n",
       "    <tr>\n",
       "      <th>3</th>\n",
       "      <td>日立柏サッカー場</td>\n",
       "      <td>千葉県柏市日立台1-2-50</td>\n",
       "      <td>15349</td>\n",
       "    </tr>\n",
       "    <tr>\n",
       "      <th>4</th>\n",
       "      <td>ニンジニアスタジアム</td>\n",
       "      <td>愛媛県松山市上野町乙46</td>\n",
       "      <td>15576</td>\n",
       "    </tr>\n",
       "  </tbody>\n",
       "</table>\n",
       "</div>"
      ],
      "text/plain": [
       "          name           address   capa\n",
       "0  名古屋市瑞穂陸上競技場  愛知県名古屋市瑞穂区山下通5-1  20000\n",
       "1      豊田スタジアム      愛知県豊田市千石町7-2  40000\n",
       "2    フクダ電子アリーナ  千葉県千葉市中央区川崎町1-20  18500\n",
       "3     日立柏サッカー場    千葉県柏市日立台1-2-50  15349\n",
       "4   ニンジニアスタジアム      愛媛県松山市上野町乙46  15576"
      ]
     },
     "execution_count": 13,
     "metadata": {},
     "output_type": "execute_result"
    }
   ],
   "source": [
    "stadium.head()"
   ]
  },
  {
   "cell_type": "code",
   "execution_count": 15,
   "metadata": {},
   "outputs": [
    {
     "data": {
      "text/plain": [
       "array(['ユアテックスタジアム仙台', '豊田スタジアム', '万博記念競技場', 'エディオンスタジアム広島', '札幌ドーム',\n",
       "       'ベストアメニティスタジアム', '等々力陸上競技場', 'ＮＡＣＫ５スタジアム大宮', '日立柏サッカー場',\n",
       "       '埼玉スタジアム２００２', '日産スタジアム', 'デンカビッグスワンスタジアム', 'ヤンマースタジアム長居',\n",
       "       'ＩＡＩスタジアム日本平', 'ヤマハスタジアム（磐田）', 'ノエビアスタジアム神戸', '味の素スタジアム',\n",
       "       '名古屋市瑞穂陸上競技場', 'キンチョウスタジアム', '県立カシマサッカースタジアム', 'ニッパツ三ツ沢球技場',\n",
       "       '佐賀県総合運動場陸上競技場', '札幌厚別公園競技場', '国立競技場', 'エコパスタジアム',\n",
       "       '神戸総合運動公園ユニバー記念競技場', 'ケーズデンキスタジアム水戸', '山梨中銀スタジアム',\n",
       "       '岐阜メモリアルセンター長良川競技場', 'シティライトスタジアム', 'レベルファイブスタジアム', '大分銀行ドーム',\n",
       "       'ニンジニアスタジアム', 'Ｓｈｏｎａｎ\\u3000ＢＭＷスタジアム平塚', '北九州市立本城陸上競技場',\n",
       "       '栃木県グリーンスタジアム', '駒沢オリンピック公園総合運動場陸上競技場', '松本平広域公園総合球技場',\n",
       "       '鳴門・大塚スポーツパーク\\u3000ポカリスエットスタジアム', '正田醤油スタジアム群馬', 'うまかな・よかなスタジアム',\n",
       "       '京都市西京極総合運動公園陸上競技場兼球技場', 'とりぎんバードスタジアム', '町田市立陸上競技場',\n",
       "       'ＮＤソフトスタジアム山形', '富山県総合運動公園陸上競技場', 'フクダ電子アリーナ', '熊本市水前寺競技場',\n",
       "       '味の素フィールド西が丘', '岐阜メモリアルセンター長良川球技メドウ', '福島県営あづま陸上競技場', '岡山県津山陸上競技場',\n",
       "       '熊谷スポーツ文化公園陸上競技場', '宮城スタジアム', '長崎県立総合運動公園陸上競技場',\n",
       "       '大垣市浅中公園総合グラウンド陸上競技場', '鹿児島県立鴨池陸上競技場 ', '香川県立丸亀競技場',\n",
       "       '長崎市総合運動公園かきどまり陸上競技場'], dtype=object)"
      ]
     },
     "execution_count": 15,
     "metadata": {},
     "output_type": "execute_result"
    }
   ],
   "source": [
    "tmp['stadium'].unique()"
   ]
  },
  {
   "cell_type": "code",
   "execution_count": 16,
   "metadata": {},
   "outputs": [
    {
     "data": {
      "text/plain": [
       "array(['名古屋市瑞穂陸上競技場', '豊田スタジアム', 'フクダ電子アリーナ', '日立柏サッカー場', 'ニンジニアスタジアム',\n",
       "       'レベルファイブスタジアム', '北九州市立本城陸上競技場', '岐阜メモリアルセンター長良川競技場', '正田醤油スタジアム群馬',\n",
       "       'エディオンスタジアム広島', '札幌ドーム', '札幌厚別公園競技場', 'ノエビアスタジアム神戸',\n",
       "       '県立カシマサッカースタジアム', 'ケーズデンキスタジアム水戸', '鹿児島県立鴨池陸上競技場 ', '等々力陸上競技場',\n",
       "       '日産スタジアム', 'ニッパツ三ツ沢球技場', 'Ｓｈｏｎａｎ\\u3000ＢＭＷスタジアム平塚', 'うまかな・よかなスタジアム',\n",
       "       '熊本市水前寺競技場', '京都市西京極総合運動公園陸上競技場兼球技場', 'ユアテックスタジアム仙台',\n",
       "       '松本平広域公園総合球技場', 'デンカビッグスワンスタジアム', '大分銀行ドーム', 'シティライトスタジアム',\n",
       "       '万博記念競技場', 'キンチョウスタジアム', 'ヤンマースタジアム長居', 'ベストアメニティスタジアム',\n",
       "       '佐賀県総合運動場陸上競技場', '埼玉スタジアム２００２', 'ＮＡＣＫ５スタジアム大宮', 'ＩＡＩスタジアム日本平',\n",
       "       'エコパスタジアム', 'ヤマハスタジアム（磐田）', '栃木県グリーンスタジアム',\n",
       "       '鳴門・大塚スポーツパーク\\u3000ポカリスエットスタジアム', '味の素スタジアム', '町田市立陸上競技場', '国立競技場',\n",
       "       '駒沢オリンピック公園総合運動場陸上競技場', 'とりぎんバードスタジアム', '富山県総合運動公園陸上競技場',\n",
       "       'ＮＤソフトスタジアム山形', '山梨中銀スタジアム', '熊谷スポーツ文化公園陸上競技場',\n",
       "       '神戸総合運動公園ユニバー記念競技場', '宮城スタジアム', '岐阜メモリアルセンター長良川球技メドウ',\n",
       "       '味の素フィールド西が丘', '福島県営あづま陸上競技場', '岡山県津山陸上競技場', '長崎県立総合運動公園陸上競技場',\n",
       "       '長崎市総合運動公園かきどまり陸上競技場', '大垣市浅中公園総合グラウンド陸上競技場', '香川県立丸亀競技場'],\n",
       "      dtype=object)"
      ]
     },
     "execution_count": 16,
     "metadata": {},
     "output_type": "execute_result"
    }
   ],
   "source": [
    "stadium['name'].unique()"
   ]
  },
  {
   "cell_type": "code",
   "execution_count": null,
   "metadata": {},
   "outputs": [],
   "source": []
  }
 ],
 "metadata": {
  "kernelspec": {
   "display_name": "Python 3",
   "language": "python",
   "name": "python3"
  },
  "language_info": {
   "codemirror_mode": {
    "name": "ipython",
    "version": 3
   },
   "file_extension": ".py",
   "mimetype": "text/x-python",
   "name": "python",
   "nbconvert_exporter": "python",
   "pygments_lexer": "ipython3",
   "version": "3.8.5"
  }
 },
 "nbformat": 4,
 "nbformat_minor": 4
}
