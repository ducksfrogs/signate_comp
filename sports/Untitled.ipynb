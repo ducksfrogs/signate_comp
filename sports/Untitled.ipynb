{
 "cells": [
  {
   "cell_type": "code",
   "execution_count": 24,
   "metadata": {},
   "outputs": [],
   "source": [
    "import numpy as np\n",
    "import pandas as pd\n",
    "import matplotlib.pyplot as plt\n",
    "\n",
    "import seaborn as sns\n",
    "\n"
   ]
  },
  {
   "cell_type": "code",
   "execution_count": 42,
   "metadata": {},
   "outputs": [],
   "source": [
    "train = pd.read_csv('../input/train.csv')\n",
    "train_add = pd.read_csv('../input/train_add.csv')\n",
    "stadium = pd.read_csv('../input/stadium.csv')\n",
    "add_2014 = pd.read_csv('../input/2014_add.csv')\n",
    "test = pd.read_csv('../input/test.csv')\n",
    "condition = pd.read_csv('../input/condition.csv')\n",
    "condition_add = pd.read_csv('../input/condition_add.csv')\n"
   ]
  },
  {
   "cell_type": "code",
   "execution_count": 43,
   "metadata": {},
   "outputs": [
    {
     "data": {
      "text/plain": [
       "(1721, 11)"
      ]
     },
     "execution_count": 43,
     "metadata": {},
     "output_type": "execute_result"
    }
   ],
   "source": [
    "train.shape"
   ]
  },
  {
   "cell_type": "code",
   "execution_count": 44,
   "metadata": {},
   "outputs": [
    {
     "data": {
      "text/html": [
       "<div>\n",
       "<style scoped>\n",
       "    .dataframe tbody tr th:only-of-type {\n",
       "        vertical-align: middle;\n",
       "    }\n",
       "\n",
       "    .dataframe tbody tr th {\n",
       "        vertical-align: top;\n",
       "    }\n",
       "\n",
       "    .dataframe thead th {\n",
       "        text-align: right;\n",
       "    }\n",
       "</style>\n",
       "<table border=\"1\" class=\"dataframe\">\n",
       "  <thead>\n",
       "    <tr style=\"text-align: right;\">\n",
       "      <th></th>\n",
       "      <th>id</th>\n",
       "      <th>y</th>\n",
       "      <th>year</th>\n",
       "      <th>stage</th>\n",
       "      <th>match</th>\n",
       "      <th>gameday</th>\n",
       "      <th>time</th>\n",
       "      <th>home</th>\n",
       "      <th>away</th>\n",
       "      <th>stadium</th>\n",
       "      <th>tv</th>\n",
       "    </tr>\n",
       "  </thead>\n",
       "  <tbody>\n",
       "    <tr>\n",
       "      <th>0</th>\n",
       "      <td>13994</td>\n",
       "      <td>18250</td>\n",
       "      <td>2012</td>\n",
       "      <td>Ｊ１</td>\n",
       "      <td>第１節第１日</td>\n",
       "      <td>03/10(土)</td>\n",
       "      <td>14:04</td>\n",
       "      <td>ベガルタ仙台</td>\n",
       "      <td>鹿島アントラーズ</td>\n",
       "      <td>ユアテックスタジアム仙台</td>\n",
       "      <td>スカパー／ｅ２／スカパー光／ＮＨＫ総合</td>\n",
       "    </tr>\n",
       "    <tr>\n",
       "      <th>1</th>\n",
       "      <td>13995</td>\n",
       "      <td>24316</td>\n",
       "      <td>2012</td>\n",
       "      <td>Ｊ１</td>\n",
       "      <td>第１節第１日</td>\n",
       "      <td>03/10(土)</td>\n",
       "      <td>14:04</td>\n",
       "      <td>名古屋グランパス</td>\n",
       "      <td>清水エスパルス</td>\n",
       "      <td>豊田スタジアム</td>\n",
       "      <td>スカパー／ｅ２／スカパー光（Ｊ　ＳＰＯＲＴＳ　４）／ＮＨＫ名古屋</td>\n",
       "    </tr>\n",
       "    <tr>\n",
       "      <th>2</th>\n",
       "      <td>13996</td>\n",
       "      <td>17066</td>\n",
       "      <td>2012</td>\n",
       "      <td>Ｊ１</td>\n",
       "      <td>第１節第１日</td>\n",
       "      <td>03/10(土)</td>\n",
       "      <td>14:04</td>\n",
       "      <td>ガンバ大阪</td>\n",
       "      <td>ヴィッセル神戸</td>\n",
       "      <td>万博記念競技場</td>\n",
       "      <td>スカパー／ｅ２／スカパー光（Ｊ　ＳＰＯＲＴＳ　１）／ＮＨＫ大阪</td>\n",
       "    </tr>\n",
       "    <tr>\n",
       "      <th>3</th>\n",
       "      <td>13997</td>\n",
       "      <td>29603</td>\n",
       "      <td>2012</td>\n",
       "      <td>Ｊ１</td>\n",
       "      <td>第１節第１日</td>\n",
       "      <td>03/10(土)</td>\n",
       "      <td>14:06</td>\n",
       "      <td>サンフレッチェ広島</td>\n",
       "      <td>浦和レッズ</td>\n",
       "      <td>エディオンスタジアム広島</td>\n",
       "      <td>スカパー／ｅ２／スカパー光／ＮＨＫ広島</td>\n",
       "    </tr>\n",
       "    <tr>\n",
       "      <th>4</th>\n",
       "      <td>13998</td>\n",
       "      <td>25353</td>\n",
       "      <td>2012</td>\n",
       "      <td>Ｊ１</td>\n",
       "      <td>第１節第１日</td>\n",
       "      <td>03/10(土)</td>\n",
       "      <td>14:04</td>\n",
       "      <td>コンサドーレ札幌</td>\n",
       "      <td>ジュビロ磐田</td>\n",
       "      <td>札幌ドーム</td>\n",
       "      <td>スカパー／ｅ２／スカパー光（スカイ・Ａ　ｓｐｏｒｔｓ＋）／ＮＨＫ札幌</td>\n",
       "    </tr>\n",
       "  </tbody>\n",
       "</table>\n",
       "</div>"
      ],
      "text/plain": [
       "      id      y  year stage   match   gameday   time       home      away  \\\n",
       "0  13994  18250  2012    Ｊ１  第１節第１日  03/10(土)  14:04     ベガルタ仙台  鹿島アントラーズ   \n",
       "1  13995  24316  2012    Ｊ１  第１節第１日  03/10(土)  14:04   名古屋グランパス   清水エスパルス   \n",
       "2  13996  17066  2012    Ｊ１  第１節第１日  03/10(土)  14:04      ガンバ大阪   ヴィッセル神戸   \n",
       "3  13997  29603  2012    Ｊ１  第１節第１日  03/10(土)  14:06  サンフレッチェ広島     浦和レッズ   \n",
       "4  13998  25353  2012    Ｊ１  第１節第１日  03/10(土)  14:04   コンサドーレ札幌    ジュビロ磐田   \n",
       "\n",
       "        stadium                                  tv  \n",
       "0  ユアテックスタジアム仙台                 スカパー／ｅ２／スカパー光／ＮＨＫ総合  \n",
       "1       豊田スタジアム    スカパー／ｅ２／スカパー光（Ｊ　ＳＰＯＲＴＳ　４）／ＮＨＫ名古屋  \n",
       "2       万博記念競技場     スカパー／ｅ２／スカパー光（Ｊ　ＳＰＯＲＴＳ　１）／ＮＨＫ大阪  \n",
       "3  エディオンスタジアム広島                 スカパー／ｅ２／スカパー光／ＮＨＫ広島  \n",
       "4         札幌ドーム  スカパー／ｅ２／スカパー光（スカイ・Ａ　ｓｐｏｒｔｓ＋）／ＮＨＫ札幌  "
      ]
     },
     "execution_count": 44,
     "metadata": {},
     "output_type": "execute_result"
    }
   ],
   "source": [
    "train.head()"
   ]
  },
  {
   "cell_type": "code",
   "execution_count": 45,
   "metadata": {},
   "outputs": [
    {
     "data": {
      "text/plain": [
       "(232, 11)"
      ]
     },
     "execution_count": 45,
     "metadata": {},
     "output_type": "execute_result"
    }
   ],
   "source": [
    "train_add.shape"
   ]
  },
  {
   "cell_type": "code",
   "execution_count": 48,
   "metadata": {},
   "outputs": [],
   "source": [
    "train = pd.concat([train, train_add], axis=0)"
   ]
  },
  {
   "cell_type": "code",
   "execution_count": 49,
   "metadata": {},
   "outputs": [
    {
     "data": {
      "text/plain": [
       "(1953, 11)"
      ]
     },
     "execution_count": 49,
     "metadata": {},
     "output_type": "execute_result"
    }
   ],
   "source": [
    "train.shape"
   ]
  },
  {
   "cell_type": "code",
   "execution_count": 51,
   "metadata": {},
   "outputs": [
    {
     "data": {
      "text/plain": [
       "2034"
      ]
     },
     "execution_count": 51,
     "metadata": {},
     "output_type": "execute_result"
    }
   ],
   "source": [
    "condition.shape[0]"
   ]
  },
  {
   "cell_type": "code",
   "execution_count": 52,
   "metadata": {},
   "outputs": [
    {
     "data": {
      "text/plain": [
       "(270, 31)"
      ]
     },
     "execution_count": 52,
     "metadata": {},
     "output_type": "execute_result"
    }
   ],
   "source": [
    "condition_add.shape"
   ]
  },
  {
   "cell_type": "code",
   "execution_count": 53,
   "metadata": {},
   "outputs": [
    {
     "data": {
      "text/plain": [
       "(2034, 31)"
      ]
     },
     "execution_count": 53,
     "metadata": {},
     "output_type": "execute_result"
    }
   ],
   "source": [
    "condition.shape"
   ]
  },
  {
   "cell_type": "code",
   "execution_count": 54,
   "metadata": {},
   "outputs": [],
   "source": [
    "condition = pd.concat([condition, condition_add], axis=0)\n"
   ]
  },
  {
   "cell_type": "code",
   "execution_count": 55,
   "metadata": {},
   "outputs": [
    {
     "data": {
      "text/plain": [
       "(2304, 31)"
      ]
     },
     "execution_count": 55,
     "metadata": {},
     "output_type": "execute_result"
    }
   ],
   "source": [
    "condition.shape"
   ]
  },
  {
   "cell_type": "code",
   "execution_count": null,
   "metadata": {},
   "outputs": [],
   "source": []
  }
 ],
 "metadata": {
  "kernelspec": {
   "display_name": "Python 3",
   "language": "python",
   "name": "python3"
  },
  "language_info": {
   "codemirror_mode": {
    "name": "ipython",
    "version": 3
   },
   "file_extension": ".py",
   "mimetype": "text/x-python",
   "name": "python",
   "nbconvert_exporter": "python",
   "pygments_lexer": "ipython3",
   "version": "3.8.5"
  }
 },
 "nbformat": 4,
 "nbformat_minor": 4
}
